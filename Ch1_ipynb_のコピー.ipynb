{
  "nbformat": 4,
  "nbformat_minor": 0,
  "metadata": {
    "colab": {
      "name": "Ch1.ipynb のコピー",
      "provenance": [],
      "include_colab_link": true
    },
    "kernelspec": {
      "name": "python3",
      "display_name": "Python 3"
    },
    "language_info": {
      "name": "python"
    }
  },
  "cells": [
    {
      "cell_type": "markdown",
      "metadata": {
        "id": "view-in-github",
        "colab_type": "text"
      },
      "source": [
        "<a href=\"https://colab.research.google.com/github/yukki-github/WiFi-Profile-eduroam/blob/master/Ch1_ipynb_%E3%81%AE%E3%82%B3%E3%83%94%E3%83%BC.ipynb\" target=\"_parent\"><img src=\"https://colab.research.google.com/assets/colab-badge.svg\" alt=\"Open In Colab\"/></a>"
      ]
    },
    {
      "cell_type": "code",
      "metadata": {
        "colab": {
          "base_uri": "https://localhost:8080/",
          "height": 455
        },
        "id": "ZM4zZc97KirR",
        "outputId": "18b41dc0-3d58-41e5-8b98-a9a6d33141d5"
      },
      "source": [
        "import pandas_datareader.data as pdr\n",
        "\n",
        "df = pdr.DataReader(\"7203.JP\",\"stooq\")\n",
        "df"
      ],
      "execution_count": 5,
      "outputs": [
        {
          "output_type": "execute_result",
          "data": {
            "text/html": [
              "<div>\n",
              "<style scoped>\n",
              "    .dataframe tbody tr th:only-of-type {\n",
              "        vertical-align: middle;\n",
              "    }\n",
              "\n",
              "    .dataframe tbody tr th {\n",
              "        vertical-align: top;\n",
              "    }\n",
              "\n",
              "    .dataframe thead th {\n",
              "        text-align: right;\n",
              "    }\n",
              "</style>\n",
              "<table border=\"1\" class=\"dataframe\">\n",
              "  <thead>\n",
              "    <tr style=\"text-align: right;\">\n",
              "      <th></th>\n",
              "      <th>Open</th>\n",
              "      <th>High</th>\n",
              "      <th>Low</th>\n",
              "      <th>Close</th>\n",
              "      <th>Volume</th>\n",
              "    </tr>\n",
              "    <tr>\n",
              "      <th>Date</th>\n",
              "      <th></th>\n",
              "      <th></th>\n",
              "      <th></th>\n",
              "      <th></th>\n",
              "      <th></th>\n",
              "    </tr>\n",
              "  </thead>\n",
              "  <tbody>\n",
              "    <tr>\n",
              "      <th>2021-12-02</th>\n",
              "      <td>2030.00</td>\n",
              "      <td>2051.00</td>\n",
              "      <td>2005.00</td>\n",
              "      <td>2045.50</td>\n",
              "      <td>24357000</td>\n",
              "    </tr>\n",
              "    <tr>\n",
              "      <th>2021-12-01</th>\n",
              "      <td>2007.50</td>\n",
              "      <td>2074.00</td>\n",
              "      <td>2007.00</td>\n",
              "      <td>2045.50</td>\n",
              "      <td>25290500</td>\n",
              "    </tr>\n",
              "    <tr>\n",
              "      <th>2021-11-30</th>\n",
              "      <td>2051.50</td>\n",
              "      <td>2061.50</td>\n",
              "      <td>1999.00</td>\n",
              "      <td>2001.00</td>\n",
              "      <td>42639000</td>\n",
              "    </tr>\n",
              "    <tr>\n",
              "      <th>2021-11-29</th>\n",
              "      <td>2031.00</td>\n",
              "      <td>2041.00</td>\n",
              "      <td>2005.00</td>\n",
              "      <td>2012.00</td>\n",
              "      <td>27978900</td>\n",
              "    </tr>\n",
              "    <tr>\n",
              "      <th>2021-11-26</th>\n",
              "      <td>2100.00</td>\n",
              "      <td>2109.50</td>\n",
              "      <td>2065.00</td>\n",
              "      <td>2074.50</td>\n",
              "      <td>22432100</td>\n",
              "    </tr>\n",
              "    <tr>\n",
              "      <th>...</th>\n",
              "      <td>...</td>\n",
              "      <td>...</td>\n",
              "      <td>...</td>\n",
              "      <td>...</td>\n",
              "      <td>...</td>\n",
              "    </tr>\n",
              "    <tr>\n",
              "      <th>2016-12-09</th>\n",
              "      <td>1247.52</td>\n",
              "      <td>1254.31</td>\n",
              "      <td>1242.16</td>\n",
              "      <td>1250.91</td>\n",
              "      <td>71798910</td>\n",
              "    </tr>\n",
              "    <tr>\n",
              "      <th>2016-12-08</th>\n",
              "      <td>1243.23</td>\n",
              "      <td>1248.95</td>\n",
              "      <td>1238.23</td>\n",
              "      <td>1247.52</td>\n",
              "      <td>77203525</td>\n",
              "    </tr>\n",
              "    <tr>\n",
              "      <th>2016-12-07</th>\n",
              "      <td>1205.72</td>\n",
              "      <td>1225.37</td>\n",
              "      <td>1203.75</td>\n",
              "      <td>1225.37</td>\n",
              "      <td>69402835</td>\n",
              "    </tr>\n",
              "    <tr>\n",
              "      <th>2016-12-06</th>\n",
              "      <td>1193.22</td>\n",
              "      <td>1198.75</td>\n",
              "      <td>1191.43</td>\n",
              "      <td>1193.75</td>\n",
              "      <td>47271590</td>\n",
              "    </tr>\n",
              "    <tr>\n",
              "      <th>2016-12-05</th>\n",
              "      <td>1187.86</td>\n",
              "      <td>1188.39</td>\n",
              "      <td>1177.49</td>\n",
              "      <td>1183.93</td>\n",
              "      <td>48398530</td>\n",
              "    </tr>\n",
              "  </tbody>\n",
              "</table>\n",
              "<p>1219 rows × 5 columns</p>\n",
              "</div>"
            ],
            "text/plain": [
              "               Open     High      Low    Close    Volume\n",
              "Date                                                    \n",
              "2021-12-02  2030.00  2051.00  2005.00  2045.50  24357000\n",
              "2021-12-01  2007.50  2074.00  2007.00  2045.50  25290500\n",
              "2021-11-30  2051.50  2061.50  1999.00  2001.00  42639000\n",
              "2021-11-29  2031.00  2041.00  2005.00  2012.00  27978900\n",
              "2021-11-26  2100.00  2109.50  2065.00  2074.50  22432100\n",
              "...             ...      ...      ...      ...       ...\n",
              "2016-12-09  1247.52  1254.31  1242.16  1250.91  71798910\n",
              "2016-12-08  1243.23  1248.95  1238.23  1247.52  77203525\n",
              "2016-12-07  1205.72  1225.37  1203.75  1225.37  69402835\n",
              "2016-12-06  1193.22  1198.75  1191.43  1193.75  47271590\n",
              "2016-12-05  1187.86  1188.39  1177.49  1183.93  48398530\n",
              "\n",
              "[1219 rows x 5 columns]"
            ]
          },
          "metadata": {},
          "execution_count": 5
        }
      ]
    },
    {
      "cell_type": "code",
      "metadata": {
        "colab": {
          "base_uri": "https://localhost:8080/"
        },
        "id": "icIwW1oBLx6j",
        "outputId": "3b014274-d495-4a65-fed0-b515aaad79ef"
      },
      "source": [
        "df.index"
      ],
      "execution_count": 6,
      "outputs": [
        {
          "output_type": "execute_result",
          "data": {
            "text/plain": [
              "DatetimeIndex(['2021-12-02', '2021-12-01', '2021-11-30', '2021-11-29',\n",
              "               '2021-11-26', '2021-11-25', '2021-11-24', '2021-11-22',\n",
              "               '2021-11-19', '2021-11-18',\n",
              "               ...\n",
              "               '2016-12-16', '2016-12-15', '2016-12-14', '2016-12-13',\n",
              "               '2016-12-12', '2016-12-09', '2016-12-08', '2016-12-07',\n",
              "               '2016-12-06', '2016-12-05'],\n",
              "              dtype='datetime64[ns]', name='Date', length=1219, freq=None)"
            ]
          },
          "metadata": {},
          "execution_count": 6
        }
      ]
    },
    {
      "cell_type": "code",
      "metadata": {
        "id": "oXLGblqhL0IO"
      },
      "source": [
        "def get_stock_data(code):\n",
        "  df = pdr.DataReader(\"{}.JP\".format(code), \"stooq\").sort_index()\n",
        "  return df"
      ],
      "execution_count": 8,
      "outputs": []
    },
    {
      "cell_type": "code",
      "metadata": {
        "colab": {
          "base_uri": "https://localhost:8080/",
          "height": 238
        },
        "id": "4wtFbaaBL3Tn",
        "outputId": "a33a89e1-a531-48e7-c112-ca45cb27624b"
      },
      "source": [
        "df = get_stock_data(8267)\n",
        "df.tail()"
      ],
      "execution_count": 14,
      "outputs": [
        {
          "output_type": "execute_result",
          "data": {
            "text/html": [
              "<div>\n",
              "<style scoped>\n",
              "    .dataframe tbody tr th:only-of-type {\n",
              "        vertical-align: middle;\n",
              "    }\n",
              "\n",
              "    .dataframe tbody tr th {\n",
              "        vertical-align: top;\n",
              "    }\n",
              "\n",
              "    .dataframe thead th {\n",
              "        text-align: right;\n",
              "    }\n",
              "</style>\n",
              "<table border=\"1\" class=\"dataframe\">\n",
              "  <thead>\n",
              "    <tr style=\"text-align: right;\">\n",
              "      <th></th>\n",
              "      <th>Open</th>\n",
              "      <th>High</th>\n",
              "      <th>Low</th>\n",
              "      <th>Close</th>\n",
              "      <th>Volume</th>\n",
              "    </tr>\n",
              "    <tr>\n",
              "      <th>Date</th>\n",
              "      <th></th>\n",
              "      <th></th>\n",
              "      <th></th>\n",
              "      <th></th>\n",
              "      <th></th>\n",
              "    </tr>\n",
              "  </thead>\n",
              "  <tbody>\n",
              "    <tr>\n",
              "      <th>2021-11-26</th>\n",
              "      <td>2711.0</td>\n",
              "      <td>2718.0</td>\n",
              "      <td>2693.0</td>\n",
              "      <td>2701.5</td>\n",
              "      <td>1697400</td>\n",
              "    </tr>\n",
              "    <tr>\n",
              "      <th>2021-11-29</th>\n",
              "      <td>2653.0</td>\n",
              "      <td>2674.5</td>\n",
              "      <td>2608.5</td>\n",
              "      <td>2653.5</td>\n",
              "      <td>2172500</td>\n",
              "    </tr>\n",
              "    <tr>\n",
              "      <th>2021-11-30</th>\n",
              "      <td>2686.5</td>\n",
              "      <td>2711.5</td>\n",
              "      <td>2643.0</td>\n",
              "      <td>2644.5</td>\n",
              "      <td>2840900</td>\n",
              "    </tr>\n",
              "    <tr>\n",
              "      <th>2021-12-01</th>\n",
              "      <td>2639.5</td>\n",
              "      <td>2684.5</td>\n",
              "      <td>2633.5</td>\n",
              "      <td>2655.0</td>\n",
              "      <td>1984000</td>\n",
              "    </tr>\n",
              "    <tr>\n",
              "      <th>2021-12-02</th>\n",
              "      <td>2630.0</td>\n",
              "      <td>2675.0</td>\n",
              "      <td>2627.0</td>\n",
              "      <td>2655.0</td>\n",
              "      <td>1898500</td>\n",
              "    </tr>\n",
              "  </tbody>\n",
              "</table>\n",
              "</div>"
            ],
            "text/plain": [
              "              Open    High     Low   Close   Volume\n",
              "Date                                               \n",
              "2021-11-26  2711.0  2718.0  2693.0  2701.5  1697400\n",
              "2021-11-29  2653.0  2674.5  2608.5  2653.5  2172500\n",
              "2021-11-30  2686.5  2711.5  2643.0  2644.5  2840900\n",
              "2021-12-01  2639.5  2684.5  2633.5  2655.0  1984000\n",
              "2021-12-02  2630.0  2675.0  2627.0  2655.0  1898500"
            ]
          },
          "metadata": {},
          "execution_count": 14
        }
      ]
    },
    {
      "cell_type": "code",
      "metadata": {
        "colab": {
          "base_uri": "https://localhost:8080/"
        },
        "id": "cmMPi5rkL6hc",
        "outputId": "8765f519-6c39-4e55-8e4f-e34fec7a7979"
      },
      "source": [
        "df['Close']"
      ],
      "execution_count": 15,
      "outputs": [
        {
          "output_type": "execute_result",
          "data": {
            "text/plain": [
              "Date\n",
              "2016-12-05    1456.25\n",
              "2016-12-06    1464.19\n",
              "2016-12-07    1474.01\n",
              "2016-12-08    1510.96\n",
              "2016-12-09    1515.15\n",
              "               ...   \n",
              "2021-11-26    2701.50\n",
              "2021-11-29    2653.50\n",
              "2021-11-30    2644.50\n",
              "2021-12-01    2655.00\n",
              "2021-12-02    2655.00\n",
              "Name: Close, Length: 1219, dtype: float64"
            ]
          },
          "metadata": {},
          "execution_count": 15
        }
      ]
    },
    {
      "cell_type": "code",
      "metadata": {
        "colab": {
          "base_uri": "https://localhost:8080/",
          "height": 286
        },
        "id": "-rX3tz2cL81Q",
        "outputId": "c4fe2e4f-008f-4e4f-84b7-f76b7e3c4028"
      },
      "source": [
        "df['Close'].plot()"
      ],
      "execution_count": 16,
      "outputs": [
        {
          "output_type": "execute_result",
          "data": {
            "text/plain": [
              "<matplotlib.axes._subplots.AxesSubplot at 0x7f9bb540ead0>"
            ]
          },
          "metadata": {},
          "execution_count": 16
        },
        {
          "output_type": "display_data",
          "data": {
            "image/png": "[encoded data removed]",
            "text/plain": [
              "<Figure size 432x288 with 1 Axes>"
            ]
          },
          "metadata": {
            "needs_background": "light"
          }
        }
      ]
    }
  ]
}